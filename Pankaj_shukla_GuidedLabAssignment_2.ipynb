{
  "nbformat": 4,
  "nbformat_minor": 0,
  "metadata": {
    "colab": {
      "name": "Pankaj shukla_GuidedLabAssignment_2.ipynb",
      "provenance": [],
      "mount_file_id": "1SPRZlBGWa-2xQHXTEw_GZlHqFBL1GDfQ",
      "authorship_tag": "ABX9TyPCHnlBMM41JZe11WTStjJp",
      "include_colab_link": true
    },
    "kernelspec": {
      "name": "python3",
      "display_name": "Python 3"
    },
    "language_info": {
      "name": "python"
    }
  },
  "cells": [
    {
      "cell_type": "markdown",
      "metadata": {
        "id": "view-in-github",
        "colab_type": "text"
      },
      "source": [
        "<a href=\"https://colab.research.google.com/github/shuklapankaj36/TensorFlow-Course/blob/master/Pankaj_shukla_GuidedLabAssignment_2.ipynb\" target=\"_parent\"><img src=\"https://colab.research.google.com/assets/colab-badge.svg\" alt=\"Open In Colab\"/></a>"
      ]
    },
    {
      "cell_type": "code",
      "execution_count": 1,
      "metadata": {
        "id": "V0ju9JyaUjhX"
      },
      "outputs": [],
      "source": [
        "import os\n",
        "import matplotlib.pyplot as plt\n",
        "import numpy as np\n",
        "import natsort\n",
        "import pandas as pd \n",
        "import scipy\n",
        "import math\n",
        "import pandas as pd\n",
        "import numpy as np\n",
        "from sklearn.model_selection import train_test_split\n",
        "import librosa\n"
      ]
    },
    {
      "cell_type": "code",
      "source": [
        "from google.colab import drive\n",
        "drive.mount('/content/drive')\n"
      ],
      "metadata": {
        "colab": {
          "base_uri": "https://localhost:8080/"
        },
        "id": "dxATALGSXQav",
        "outputId": "3b26a22d-aae8-4780-8ad6-252ef89bf2ac"
      },
      "execution_count": 2,
      "outputs": [
        {
          "output_type": "stream",
          "name": "stdout",
          "text": [
            "Drive already mounted at /content/drive; to attempt to forcibly remount, call drive.mount(\"/content/drive\", force_remount=True).\n"
          ]
        }
      ]
    },
    {
      "cell_type": "code",
      "source": [
        "unzip \"/content/only50sample ff1010bird_wav.zip\"np"
      ],
      "metadata": {
        "colab": {
          "base_uri": "https://localhost:8080/",
          "height": 130
        },
        "id": "v7yjvHusYOXR",
        "outputId": "9b8ed6cc-b87d-4a8f-db3c-013db4fcc87e"
      },
      "execution_count": 3,
      "outputs": [
        {
          "output_type": "error",
          "ename": "SyntaxError",
          "evalue": "ignored",
          "traceback": [
            "\u001b[0;36m  File \u001b[0;32m\"<ipython-input-3-4947a1663a2c>\"\u001b[0;36m, line \u001b[0;32m1\u001b[0m\n\u001b[0;31m    unzip \"/content/only50sample ff1010bird_wav.zip\"np\u001b[0m\n\u001b[0m                                                   ^\u001b[0m\n\u001b[0;31mSyntaxError\u001b[0m\u001b[0;31m:\u001b[0m invalid syntax\n"
          ]
        }
      ]
    },
    {
      "cell_type": "code",
      "source": [
        "\n",
        "labelPath=\"/content/drive/MyDrive/MULTIMEDIA_TA_DATASET/ff1010bird/ff1010bird_metadata.csv\"\n",
        "\n",
        "temp=pd.read_csv(labelPath, header=None, skiprows=1)\n",
        "temp.head()\n",
        "\n",
        "temp2=temp.values\n",
        "\n",
        "print(temp2.shape)\n",
        "\n",
        "index=np.argsort(temp2[:,0])\n",
        "print(index)\n",
        "\n",
        "sortedValues=temp2[index]\n",
        "print('sortedValues', sortedValues)\n",
        "\n",
        "top50LValues=sortedValues[:50]\n",
        "top50Labels=top50LValues[:,1]\n",
        "print(top50Labels)"
      ],
      "metadata": {
        "colab": {
          "base_uri": "https://localhost:8080/"
        },
        "id": "TKZzcNLqbpcs",
        "outputId": "c81b05b4-7f51-418e-fc97-17badbfcf6cc"
      },
      "execution_count": 10,
      "outputs": [
        {
          "output_type": "stream",
          "name": "stdout",
          "text": [
            "(7690, 2)\n",
            "[6041 6037 5600 ...  414 2218  777]\n",
            "sortedValues [[    55      0]\n",
            " [    87      0]\n",
            " [    99      0]\n",
            " ...\n",
            " [195598      0]\n",
            " [195739      0]\n",
            " [195862      0]]\n",
            "[0 0 0 1 0 0 0 0 0 0 0 0 0 1 1 1 0 0 0 0 0 1 1 1 0 1 1 0 0 0 1 0 0 0 0 0 1\n",
            " 0 0 0 0 0 0 0 0 0 0 0 0 0]\n"
          ]
        }
      ]
    },
    {
      "cell_type": "code",
      "source": [
        "dataPath=\"/content/drive/MyDrive/MULTIMEDIA_TA_DATASET/ff1010bird/only50Sample_ff1010bird_wav/\"\n",
        "\n",
        "listDataDir = os.listdir(dataPath)\n",
        "#print(listDataDir)\n",
        "#print(len(listDataDir))\n",
        "\n",
        "sortedDataDir=natsort.natsorted(listDataDir,reverse=False)\n",
        "#print(\"sortedDataDir\\n\",sortedDataDir)\n",
        "\n",
        "allRawAudios=[]\n",
        "for file in range(len(sortedDataDir)):\n",
        "  #print(file) \n",
        "  filePath=dataPath+sortedDataDir[file]\n",
        "  #print(filePath)\n",
        "  audio,sr=librosa.load(filePath)\n",
        "  chunk=audio[4*sr:6*sr]\n",
        "  print(len(chunk))##take 2 second from each sample instead of whole 10 second\n",
        "  allRawAudios.append(chunk)\n"
      ],
      "metadata": {
        "colab": {
          "base_uri": "https://localhost:8080/"
        },
        "id": "lq38KusGc3nd",
        "outputId": "301206a4-bd2c-424e-80b0-fda856e87e8c"
      },
      "execution_count": 30,
      "outputs": [
        {
          "output_type": "stream",
          "name": "stdout",
          "text": [
            "44100\n",
            "44100\n",
            "44100\n",
            "44100\n",
            "44100\n",
            "44100\n",
            "44100\n",
            "44100\n",
            "44100\n",
            "44100\n",
            "44100\n",
            "44100\n",
            "44100\n",
            "44100\n",
            "44100\n",
            "44100\n",
            "44100\n",
            "44100\n",
            "44100\n",
            "44100\n",
            "44100\n",
            "44100\n",
            "44100\n",
            "44100\n",
            "44100\n",
            "44100\n",
            "44100\n",
            "44100\n",
            "44100\n",
            "44100\n",
            "44100\n",
            "44100\n",
            "44100\n",
            "44100\n",
            "44100\n",
            "44100\n",
            "44100\n",
            "44100\n",
            "44100\n",
            "44100\n",
            "44100\n",
            "44100\n",
            "44100\n",
            "44100\n",
            "44100\n",
            "44100\n",
            "44100\n",
            "44100\n",
            "44100\n",
            "44100\n"
          ]
        }
      ]
    },
    {
      "cell_type": "code",
      "source": [
        "allFeatures=[]\n",
        "from numpy import lib\n",
        "for i in range(len(sortedDataDir)):\n",
        "  oneSample=allRawAudios[i]\n",
        "  print(len(oneSample))\n",
        "\n",
        "  ###MFCC\n",
        "  feature_mfcc=librosa.feature.mfcc(y=oneSample, sr=sr,n_mfcc=13, hop_length=len(oneSample)+1)\n",
        "  ### energy\n",
        "  feature_eng=np.sum(np.square(oneSample)).reshape(-1,1)\n",
        "  ####ZCR\n",
        "  feature_zcr=librosa.feature.zero_crossing_rate(oneSample,hop_length=len(oneSample)+1)\n",
        "\n",
        "  print(feature_mfcc.shape)\n",
        "  print(feature_eng.shape)\n",
        "  print(feature_zcr.shape)\n",
        "\n",
        "  featuresOneFrame=np.concatenate((feature_mfcc, feature_eng, feature_zcr),axis = 0)\n",
        "\n",
        "  allFeatures.append(featuresOneFrame)\n"
      ],
      "metadata": {
        "colab": {
          "base_uri": "https://localhost:8080/"
        },
        "id": "Hi2MuyfWo65M",
        "outputId": "c886ec84-d1b1-45c7-feee-55c1c5aaf031"
      },
      "execution_count": 41,
      "outputs": [
        {
          "output_type": "stream",
          "name": "stdout",
          "text": [
            "44100\n",
            "(13, 1)\n",
            "(1, 1)\n",
            "(1, 1)\n",
            "44100\n",
            "(13, 1)\n",
            "(1, 1)\n",
            "(1, 1)\n",
            "44100\n",
            "(13, 1)\n",
            "(1, 1)\n",
            "(1, 1)\n",
            "44100\n",
            "(13, 1)\n",
            "(1, 1)\n",
            "(1, 1)\n",
            "44100\n",
            "(13, 1)\n",
            "(1, 1)\n",
            "(1, 1)\n",
            "44100\n",
            "(13, 1)\n",
            "(1, 1)\n",
            "(1, 1)\n",
            "44100\n",
            "(13, 1)\n",
            "(1, 1)\n",
            "(1, 1)\n",
            "44100\n",
            "(13, 1)\n",
            "(1, 1)\n",
            "(1, 1)\n",
            "44100\n",
            "(13, 1)\n",
            "(1, 1)\n",
            "(1, 1)\n",
            "44100\n",
            "(13, 1)\n",
            "(1, 1)\n",
            "(1, 1)\n",
            "44100\n",
            "(13, 1)\n",
            "(1, 1)\n",
            "(1, 1)\n",
            "44100\n",
            "(13, 1)\n",
            "(1, 1)\n",
            "(1, 1)\n",
            "44100\n",
            "(13, 1)\n",
            "(1, 1)\n",
            "(1, 1)\n",
            "44100\n",
            "(13, 1)\n",
            "(1, 1)\n",
            "(1, 1)\n",
            "44100\n",
            "(13, 1)\n",
            "(1, 1)\n",
            "(1, 1)\n",
            "44100\n",
            "(13, 1)\n",
            "(1, 1)\n",
            "(1, 1)\n",
            "44100\n",
            "(13, 1)\n",
            "(1, 1)\n",
            "(1, 1)\n",
            "44100\n",
            "(13, 1)\n",
            "(1, 1)\n",
            "(1, 1)\n",
            "44100\n",
            "(13, 1)\n",
            "(1, 1)\n",
            "(1, 1)\n",
            "44100\n",
            "(13, 1)\n",
            "(1, 1)\n",
            "(1, 1)\n",
            "44100\n",
            "(13, 1)\n",
            "(1, 1)\n",
            "(1, 1)\n",
            "44100\n",
            "(13, 1)\n",
            "(1, 1)\n",
            "(1, 1)\n",
            "44100\n",
            "(13, 1)\n",
            "(1, 1)\n",
            "(1, 1)\n",
            "44100\n",
            "(13, 1)\n",
            "(1, 1)\n",
            "(1, 1)\n",
            "44100\n",
            "(13, 1)\n",
            "(1, 1)\n",
            "(1, 1)\n",
            "44100\n",
            "(13, 1)\n",
            "(1, 1)\n",
            "(1, 1)\n",
            "44100\n",
            "(13, 1)\n",
            "(1, 1)\n",
            "(1, 1)\n",
            "44100\n",
            "(13, 1)\n",
            "(1, 1)\n",
            "(1, 1)\n",
            "44100\n",
            "(13, 1)\n",
            "(1, 1)\n",
            "(1, 1)\n",
            "44100\n",
            "(13, 1)\n",
            "(1, 1)\n",
            "(1, 1)\n",
            "44100\n",
            "(13, 1)\n",
            "(1, 1)\n",
            "(1, 1)\n",
            "44100\n",
            "(13, 1)\n",
            "(1, 1)\n",
            "(1, 1)\n",
            "44100\n",
            "(13, 1)\n",
            "(1, 1)\n",
            "(1, 1)\n",
            "44100\n",
            "(13, 1)\n",
            "(1, 1)\n",
            "(1, 1)\n",
            "44100\n",
            "(13, 1)\n",
            "(1, 1)\n",
            "(1, 1)\n",
            "44100\n",
            "(13, 1)\n",
            "(1, 1)\n",
            "(1, 1)\n",
            "44100\n",
            "(13, 1)\n",
            "(1, 1)\n",
            "(1, 1)\n",
            "44100\n",
            "(13, 1)\n",
            "(1, 1)\n",
            "(1, 1)\n",
            "44100\n",
            "(13, 1)\n",
            "(1, 1)\n",
            "(1, 1)\n",
            "44100\n",
            "(13, 1)\n",
            "(1, 1)\n",
            "(1, 1)\n",
            "44100\n",
            "(13, 1)\n",
            "(1, 1)\n",
            "(1, 1)\n",
            "44100\n",
            "(13, 1)\n",
            "(1, 1)\n",
            "(1, 1)\n",
            "44100\n",
            "(13, 1)\n",
            "(1, 1)\n",
            "(1, 1)\n",
            "44100\n",
            "(13, 1)\n",
            "(1, 1)\n",
            "(1, 1)\n",
            "44100\n",
            "(13, 1)\n",
            "(1, 1)\n",
            "(1, 1)\n",
            "44100\n",
            "(13, 1)\n",
            "(1, 1)\n",
            "(1, 1)\n",
            "44100\n",
            "(13, 1)\n",
            "(1, 1)\n",
            "(1, 1)\n",
            "44100\n",
            "(13, 1)\n",
            "(1, 1)\n",
            "(1, 1)\n",
            "44100\n",
            "(13, 1)\n",
            "(1, 1)\n",
            "(1, 1)\n",
            "44100\n",
            "(13, 1)\n",
            "(1, 1)\n",
            "(1, 1)\n"
          ]
        }
      ]
    },
    {
      "cell_type": "code",
      "source": [
        "allFeatures=np.asarray(allFeatures)\n",
        "\n",
        "print(allFeatures.shape)\n",
        "\n",
        "allFeatures=np.reshape(allFeatures, (allFeatures.shape[0],allFeatures.shape[1]))\n",
        "\n",
        "print(allFeatures.shape)"
      ],
      "metadata": {
        "colab": {
          "base_uri": "https://localhost:8080/"
        },
        "id": "SpTQPu37ssAY",
        "outputId": "07d88991-0534-470e-cbff-9bb56e57f7a9"
      },
      "execution_count": 44,
      "outputs": [
        {
          "output_type": "stream",
          "name": "stdout",
          "text": [
            "(50, 15, 1)\n",
            "(50, 15)\n"
          ]
        }
      ]
    },
    {
      "cell_type": "code",
      "source": [
        "#data standarized the data"
      ],
      "metadata": {
        "id": "rDlxBRUUurSm"
      },
      "execution_count": 45,
      "outputs": []
    },
    {
      "cell_type": "code",
      "source": [
        "### standarize the data\n",
        "print('before**************')\n",
        "print(np.mean(allFeatures,axis=0))\n",
        "print(np.std(allFeatures,axis=0))\n",
        "\n",
        "\n",
        "from sklearn import preprocessing\n",
        "allFeature_standardized = preprocessing.scale(allFeatures)\n",
        "\n",
        "print('after***************')\n",
        "print(np.mean(allFeature_standardized,axis=0))\n",
        "print(np.std(allFeature_standardized,axis=0))"
      ],
      "metadata": {
        "id": "8HainAU-uvlF"
      },
      "execution_count": null,
      "outputs": []
    },
    {
      "cell_type": "code",
      "source": [
        "X_train, X_test, y_train, y_test = train_test_split(allFeature_standardized, top50Labels, test_size=0.30, random_state=101,shuffle=True)"
      ],
      "metadata": {
        "id": "cXrtQ7dVvzlI"
      },
      "execution_count": 52,
      "outputs": []
    },
    {
      "cell_type": "code",
      "source": [
        "from sklearn.svm import SVC\n",
        "\n",
        "model = SVC(kernel='rbf',C=10)\n",
        "model.fit(X_train,y_train)"
      ],
      "metadata": {
        "colab": {
          "base_uri": "https://localhost:8080/"
        },
        "id": "8xuqMFz1wSXA",
        "outputId": "0f9efca5-67d1-4478-c9a5-d3e0d7582dc3"
      },
      "execution_count": 53,
      "outputs": [
        {
          "output_type": "execute_result",
          "data": {
            "text/plain": [
              "SVC(C=10)"
            ]
          },
          "metadata": {},
          "execution_count": 53
        }
      ]
    },
    {
      "cell_type": "code",
      "source": [
        "from sklearn.metrics import classification_report,confusion_matrix,accuracy_score\n",
        "#prediction on test data\n",
        "predictions = model.predict(X_test)\n",
        "print(predictions)\n",
        "\n",
        "#different evaluation matrices\n",
        "print('accuracy_score==',accuracy_score(y_test,predictions))\n",
        "print('confusion matrix==\\n',confusion_matrix(y_test,predictions))\n",
        "print(classification_report(y_test,predictions))"
      ],
      "metadata": {
        "colab": {
          "base_uri": "https://localhost:8080/"
        },
        "id": "AXJcbdwwwnuf",
        "outputId": "930ffb47-57b9-4faf-a11c-fcb5286fb2b8"
      },
      "execution_count": 54,
      "outputs": [
        {
          "output_type": "stream",
          "name": "stdout",
          "text": [
            "[0 1 0 0 1 0 0 0 0 0 0 0 0 0 1]\n",
            "accuracy_score== 0.8\n",
            "confusion matrix==\n",
            " [[10  1]\n",
            " [ 2  2]]\n",
            "              precision    recall  f1-score   support\n",
            "\n",
            "           0       0.83      0.91      0.87        11\n",
            "           1       0.67      0.50      0.57         4\n",
            "\n",
            "    accuracy                           0.80        15\n",
            "   macro avg       0.75      0.70      0.72        15\n",
            "weighted avg       0.79      0.80      0.79        15\n",
            "\n"
          ]
        }
      ]
    },
    {
      "cell_type": "code",
      "source": [
        "param_grid = {'C': [0.1,1, 10, 100, 1000], 'gamma': [1,0.1,0.01,0.001,0.0001], 'kernel': ['rbf']} ##for rbf kernel\n",
        "# param_grid = {'C': [0.1,1, 10, 100, 1000], 'kernel': ['sigmoid']} ##for sigmoid kernel\n",
        "# param_grid = {'C': [0.1,1, 10, 100, 1000], 'kernel': ['linear']} ##for linear kernel\n",
        "# param_grid = {'C': [0.1,1, 10, 100, 1000], 'degree': [2,3,4,5,6], 'kernel': ['poly']} ##for polynomial kernel\n",
        "\n",
        "### gamma=Kernel coefficient for ‘rbf’, ‘poly’ and ‘sigmoid’\n",
        "### c=Regularization parameter\n",
        "\n",
        "from sklearn.model_selection import GridSearchCV\n",
        "grid = GridSearchCV(SVC(kernel='rbf'),param_grid,refit=True,verbose=2)\n",
        "grid.fit(X_train,y_train)"
      ],
      "metadata": {
        "colab": {
          "base_uri": "https://localhost:8080/"
        },
        "id": "XesdBRhqw1mK",
        "outputId": "7e334c2d-f38c-47b1-a4c4-814dc8b6ba15"
      },
      "execution_count": 55,
      "outputs": [
        {
          "output_type": "stream",
          "name": "stdout",
          "text": [
            "Fitting 5 folds for each of 25 candidates, totalling 125 fits\n",
            "[CV] END .........................C=0.1, gamma=1, kernel=rbf; total time=   0.0s\n",
            "[CV] END .........................C=0.1, gamma=1, kernel=rbf; total time=   0.0s\n",
            "[CV] END .........................C=0.1, gamma=1, kernel=rbf; total time=   0.0s\n",
            "[CV] END .........................C=0.1, gamma=1, kernel=rbf; total time=   0.0s\n",
            "[CV] END .........................C=0.1, gamma=1, kernel=rbf; total time=   0.0s\n",
            "[CV] END .......................C=0.1, gamma=0.1, kernel=rbf; total time=   0.0s\n",
            "[CV] END .......................C=0.1, gamma=0.1, kernel=rbf; total time=   0.0s\n",
            "[CV] END .......................C=0.1, gamma=0.1, kernel=rbf; total time=   0.0s\n",
            "[CV] END .......................C=0.1, gamma=0.1, kernel=rbf; total time=   0.0s\n",
            "[CV] END .......................C=0.1, gamma=0.1, kernel=rbf; total time=   0.0s\n",
            "[CV] END ......................C=0.1, gamma=0.01, kernel=rbf; total time=   0.0s\n",
            "[CV] END ......................C=0.1, gamma=0.01, kernel=rbf; total time=   0.0s\n",
            "[CV] END ......................C=0.1, gamma=0.01, kernel=rbf; total time=   0.0s\n",
            "[CV] END ......................C=0.1, gamma=0.01, kernel=rbf; total time=   0.0s\n",
            "[CV] END ......................C=0.1, gamma=0.01, kernel=rbf; total time=   0.0s\n",
            "[CV] END .....................C=0.1, gamma=0.001, kernel=rbf; total time=   0.0s\n",
            "[CV] END .....................C=0.1, gamma=0.001, kernel=rbf; total time=   0.0s\n",
            "[CV] END .....................C=0.1, gamma=0.001, kernel=rbf; total time=   0.0s\n",
            "[CV] END .....................C=0.1, gamma=0.001, kernel=rbf; total time=   0.0s\n",
            "[CV] END .....................C=0.1, gamma=0.001, kernel=rbf; total time=   0.0s\n",
            "[CV] END ....................C=0.1, gamma=0.0001, kernel=rbf; total time=   0.0s\n",
            "[CV] END ....................C=0.1, gamma=0.0001, kernel=rbf; total time=   0.0s\n",
            "[CV] END ....................C=0.1, gamma=0.0001, kernel=rbf; total time=   0.0s\n",
            "[CV] END ....................C=0.1, gamma=0.0001, kernel=rbf; total time=   0.0s\n",
            "[CV] END ....................C=0.1, gamma=0.0001, kernel=rbf; total time=   0.0s\n",
            "[CV] END ...........................C=1, gamma=1, kernel=rbf; total time=   0.0s\n",
            "[CV] END ...........................C=1, gamma=1, kernel=rbf; total time=   0.0s\n",
            "[CV] END ...........................C=1, gamma=1, kernel=rbf; total time=   0.0s\n",
            "[CV] END ...........................C=1, gamma=1, kernel=rbf; total time=   0.0s\n",
            "[CV] END ...........................C=1, gamma=1, kernel=rbf; total time=   0.0s\n",
            "[CV] END .........................C=1, gamma=0.1, kernel=rbf; total time=   0.0s\n",
            "[CV] END .........................C=1, gamma=0.1, kernel=rbf; total time=   0.0s\n",
            "[CV] END .........................C=1, gamma=0.1, kernel=rbf; total time=   0.0s\n",
            "[CV] END .........................C=1, gamma=0.1, kernel=rbf; total time=   0.0s\n",
            "[CV] END .........................C=1, gamma=0.1, kernel=rbf; total time=   0.0s\n",
            "[CV] END ........................C=1, gamma=0.01, kernel=rbf; total time=   0.0s\n",
            "[CV] END ........................C=1, gamma=0.01, kernel=rbf; total time=   0.0s\n",
            "[CV] END ........................C=1, gamma=0.01, kernel=rbf; total time=   0.0s\n",
            "[CV] END ........................C=1, gamma=0.01, kernel=rbf; total time=   0.0s\n",
            "[CV] END ........................C=1, gamma=0.01, kernel=rbf; total time=   0.0s\n",
            "[CV] END .......................C=1, gamma=0.001, kernel=rbf; total time=   0.0s\n",
            "[CV] END .......................C=1, gamma=0.001, kernel=rbf; total time=   0.0s\n",
            "[CV] END .......................C=1, gamma=0.001, kernel=rbf; total time=   0.0s\n",
            "[CV] END .......................C=1, gamma=0.001, kernel=rbf; total time=   0.0s\n",
            "[CV] END .......................C=1, gamma=0.001, kernel=rbf; total time=   0.0s\n",
            "[CV] END ......................C=1, gamma=0.0001, kernel=rbf; total time=   0.0s\n",
            "[CV] END ......................C=1, gamma=0.0001, kernel=rbf; total time=   0.0s\n",
            "[CV] END ......................C=1, gamma=0.0001, kernel=rbf; total time=   0.0s\n",
            "[CV] END ......................C=1, gamma=0.0001, kernel=rbf; total time=   0.0s\n",
            "[CV] END ......................C=1, gamma=0.0001, kernel=rbf; total time=   0.0s\n",
            "[CV] END ..........................C=10, gamma=1, kernel=rbf; total time=   0.0s\n",
            "[CV] END ..........................C=10, gamma=1, kernel=rbf; total time=   0.0s\n",
            "[CV] END ..........................C=10, gamma=1, kernel=rbf; total time=   0.0s\n",
            "[CV] END ..........................C=10, gamma=1, kernel=rbf; total time=   0.0s\n",
            "[CV] END ..........................C=10, gamma=1, kernel=rbf; total time=   0.0s\n",
            "[CV] END ........................C=10, gamma=0.1, kernel=rbf; total time=   0.0s\n",
            "[CV] END ........................C=10, gamma=0.1, kernel=rbf; total time=   0.0s\n",
            "[CV] END ........................C=10, gamma=0.1, kernel=rbf; total time=   0.0s\n",
            "[CV] END ........................C=10, gamma=0.1, kernel=rbf; total time=   0.0s\n",
            "[CV] END ........................C=10, gamma=0.1, kernel=rbf; total time=   0.0s\n",
            "[CV] END .......................C=10, gamma=0.01, kernel=rbf; total time=   0.0s\n",
            "[CV] END .......................C=10, gamma=0.01, kernel=rbf; total time=   0.0s\n",
            "[CV] END .......................C=10, gamma=0.01, kernel=rbf; total time=   0.0s\n",
            "[CV] END .......................C=10, gamma=0.01, kernel=rbf; total time=   0.0s\n",
            "[CV] END .......................C=10, gamma=0.01, kernel=rbf; total time=   0.0s\n",
            "[CV] END ......................C=10, gamma=0.001, kernel=rbf; total time=   0.0s\n",
            "[CV] END ......................C=10, gamma=0.001, kernel=rbf; total time=   0.0s\n",
            "[CV] END ......................C=10, gamma=0.001, kernel=rbf; total time=   0.0s\n",
            "[CV] END ......................C=10, gamma=0.001, kernel=rbf; total time=   0.0s\n",
            "[CV] END ......................C=10, gamma=0.001, kernel=rbf; total time=   0.0s\n",
            "[CV] END .....................C=10, gamma=0.0001, kernel=rbf; total time=   0.0s\n",
            "[CV] END .....................C=10, gamma=0.0001, kernel=rbf; total time=   0.0s\n",
            "[CV] END .....................C=10, gamma=0.0001, kernel=rbf; total time=   0.0s\n",
            "[CV] END .....................C=10, gamma=0.0001, kernel=rbf; total time=   0.0s\n",
            "[CV] END .....................C=10, gamma=0.0001, kernel=rbf; total time=   0.0s\n",
            "[CV] END .........................C=100, gamma=1, kernel=rbf; total time=   0.0s\n",
            "[CV] END .........................C=100, gamma=1, kernel=rbf; total time=   0.0s\n",
            "[CV] END .........................C=100, gamma=1, kernel=rbf; total time=   0.0s\n",
            "[CV] END .........................C=100, gamma=1, kernel=rbf; total time=   0.0s\n",
            "[CV] END .........................C=100, gamma=1, kernel=rbf; total time=   0.0s\n",
            "[CV] END .......................C=100, gamma=0.1, kernel=rbf; total time=   0.0s\n",
            "[CV] END .......................C=100, gamma=0.1, kernel=rbf; total time=   0.0s\n",
            "[CV] END .......................C=100, gamma=0.1, kernel=rbf; total time=   0.0s\n",
            "[CV] END .......................C=100, gamma=0.1, kernel=rbf; total time=   0.0s\n",
            "[CV] END .......................C=100, gamma=0.1, kernel=rbf; total time=   0.0s\n",
            "[CV] END ......................C=100, gamma=0.01, kernel=rbf; total time=   0.0s\n",
            "[CV] END ......................C=100, gamma=0.01, kernel=rbf; total time=   0.0s\n",
            "[CV] END ......................C=100, gamma=0.01, kernel=rbf; total time=   0.0s\n",
            "[CV] END ......................C=100, gamma=0.01, kernel=rbf; total time=   0.0s\n",
            "[CV] END ......................C=100, gamma=0.01, kernel=rbf; total time=   0.0s\n",
            "[CV] END .....................C=100, gamma=0.001, kernel=rbf; total time=   0.0s\n",
            "[CV] END .....................C=100, gamma=0.001, kernel=rbf; total time=   0.0s\n",
            "[CV] END .....................C=100, gamma=0.001, kernel=rbf; total time=   0.0s\n",
            "[CV] END .....................C=100, gamma=0.001, kernel=rbf; total time=   0.0s\n",
            "[CV] END .....................C=100, gamma=0.001, kernel=rbf; total time=   0.0s\n",
            "[CV] END ....................C=100, gamma=0.0001, kernel=rbf; total time=   0.0s\n",
            "[CV] END ....................C=100, gamma=0.0001, kernel=rbf; total time=   0.0s\n",
            "[CV] END ....................C=100, gamma=0.0001, kernel=rbf; total time=   0.0s\n",
            "[CV] END ....................C=100, gamma=0.0001, kernel=rbf; total time=   0.0s\n",
            "[CV] END ....................C=100, gamma=0.0001, kernel=rbf; total time=   0.0s\n",
            "[CV] END ........................C=1000, gamma=1, kernel=rbf; total time=   0.0s\n",
            "[CV] END ........................C=1000, gamma=1, kernel=rbf; total time=   0.0s\n",
            "[CV] END ........................C=1000, gamma=1, kernel=rbf; total time=   0.0s\n",
            "[CV] END ........................C=1000, gamma=1, kernel=rbf; total time=   0.0s\n",
            "[CV] END ........................C=1000, gamma=1, kernel=rbf; total time=   0.0s\n",
            "[CV] END ......................C=1000, gamma=0.1, kernel=rbf; total time=   0.0s\n",
            "[CV] END ......................C=1000, gamma=0.1, kernel=rbf; total time=   0.0s\n",
            "[CV] END ......................C=1000, gamma=0.1, kernel=rbf; total time=   0.0s\n",
            "[CV] END ......................C=1000, gamma=0.1, kernel=rbf; total time=   0.0s\n",
            "[CV] END ......................C=1000, gamma=0.1, kernel=rbf; total time=   0.0s\n",
            "[CV] END .....................C=1000, gamma=0.01, kernel=rbf; total time=   0.0s\n",
            "[CV] END .....................C=1000, gamma=0.01, kernel=rbf; total time=   0.0s\n",
            "[CV] END .....................C=1000, gamma=0.01, kernel=rbf; total time=   0.0s\n",
            "[CV] END .....................C=1000, gamma=0.01, kernel=rbf; total time=   0.0s\n",
            "[CV] END .....................C=1000, gamma=0.01, kernel=rbf; total time=   0.0s\n",
            "[CV] END ....................C=1000, gamma=0.001, kernel=rbf; total time=   0.0s\n",
            "[CV] END ....................C=1000, gamma=0.001, kernel=rbf; total time=   0.0s\n",
            "[CV] END ....................C=1000, gamma=0.001, kernel=rbf; total time=   0.0s\n",
            "[CV] END ....................C=1000, gamma=0.001, kernel=rbf; total time=   0.0s\n",
            "[CV] END ....................C=1000, gamma=0.001, kernel=rbf; total time=   0.0s\n",
            "[CV] END ...................C=1000, gamma=0.0001, kernel=rbf; total time=   0.0s\n",
            "[CV] END ...................C=1000, gamma=0.0001, kernel=rbf; total time=   0.0s\n",
            "[CV] END ...................C=1000, gamma=0.0001, kernel=rbf; total time=   0.0s\n",
            "[CV] END ...................C=1000, gamma=0.0001, kernel=rbf; total time=   0.0s\n",
            "[CV] END ...................C=1000, gamma=0.0001, kernel=rbf; total time=   0.0s\n"
          ]
        },
        {
          "output_type": "execute_result",
          "data": {
            "text/plain": [
              "GridSearchCV(estimator=SVC(),\n",
              "             param_grid={'C': [0.1, 1, 10, 100, 1000],\n",
              "                         'gamma': [1, 0.1, 0.01, 0.001, 0.0001],\n",
              "                         'kernel': ['rbf']},\n",
              "             verbose=2)"
            ]
          },
          "metadata": {},
          "execution_count": 55
        }
      ]
    },
    {
      "cell_type": "code",
      "source": [
        "print(grid.best_params_)\n",
        "grid.best_estimator_"
      ],
      "metadata": {
        "colab": {
          "base_uri": "https://localhost:8080/"
        },
        "id": "l9YDHfYbxAVE",
        "outputId": "cd2efcee-8b9c-4da2-c359-fea427f3a00a"
      },
      "execution_count": 56,
      "outputs": [
        {
          "output_type": "stream",
          "name": "stdout",
          "text": [
            "{'C': 0.1, 'gamma': 1, 'kernel': 'rbf'}\n"
          ]
        },
        {
          "output_type": "execute_result",
          "data": {
            "text/plain": [
              "SVC(C=0.1, gamma=1)"
            ]
          },
          "metadata": {},
          "execution_count": 56
        }
      ]
    },
    {
      "cell_type": "code",
      "source": [
        "grid_predictions = grid.predict(X_test)\n",
        "print(confusion_matrix(y_test,grid_predictions))\n",
        "print(accuracy_score(y_test,grid_predictions))"
      ],
      "metadata": {
        "colab": {
          "base_uri": "https://localhost:8080/"
        },
        "id": "FvAYIVp_xFvD",
        "outputId": "1b58a2c6-98e8-47f1-f581-e9a5ae80ee97"
      },
      "execution_count": 57,
      "outputs": [
        {
          "output_type": "stream",
          "name": "stdout",
          "text": [
            "[[11  0]\n",
            " [ 4  0]]\n",
            "0.7333333333333333\n"
          ]
        }
      ]
    },
    {
      "cell_type": "code",
      "source": [
        "## train SVM models with different kernel\n",
        "model_linear = SVC(kernel='linear', C=1).fit(X_train, y_train)\n",
        "model_rbf = SVC(kernel='rbf', gamma=1, C=1).fit(X_train, y_train)\n",
        "model_poly = SVC(kernel='poly', degree=3, C=1).fit(X_train, y_train)\n",
        "model_sig = SVC(kernel='sigmoid', C=1).fit(X_train, y_train)"
      ],
      "metadata": {
        "id": "7zRlbyWJxHzk"
      },
      "execution_count": 62,
      "outputs": []
    },
    {
      "cell_type": "code",
      "source": [
        "#prediction by each model on test data\n",
        "linear_pred = model_linear.predict(X_test)\n",
        "poly_pred = model_poly.predict(X_test)\n",
        "rbf_pred = model_rbf.predict(X_test)\n",
        "sig_pred = model_sig.predict(X_test)\n",
        "\n",
        "# retrieve the accuracy and print it for all 4 kernel functions\n",
        "accuracy_linear = model_linear.score(X_test, y_test)\n",
        "accuracy_poly = model_poly.score(X_test, y_test)\n",
        "accuracy_rbf = model_rbf.score(X_test, y_test)\n",
        "accuracy_sig = model_sig.score(X_test, y_test)\n",
        "print('Accuracy Linear Kernel:', accuracy_linear)\n",
        "print('Accuracy Polynomial Kernel:', accuracy_poly)\n",
        "print('Accuracy Radial Basis Kernel:', accuracy_rbf)\n",
        "print('Accuracy Sigmoid Kernel:', accuracy_sig)\n",
        "      \n",
        "# creating a confusion matrix\n",
        "cm_lin = confusion_matrix(y_test, linear_pred)\n",
        "cm_poly = confusion_matrix(y_test, poly_pred)\n",
        "cm_rbf = confusion_matrix(y_test, rbf_pred)\n",
        "cm_sig = confusion_matrix(y_test, sig_pred)\n",
        "print('cm_lin', '\\n',cm_lin, '\\n')\n",
        "print('cm_poly', '\\n',cm_poly ,'\\n')\n",
        "print('cm_rbf','\\n',cm_rbf ,'\\n')\n",
        "print('cm_sig','\\n',cm_sig ,'\\n')"
      ],
      "metadata": {
        "colab": {
          "base_uri": "https://localhost:8080/"
        },
        "id": "ms5mZFNExQ8W",
        "outputId": "82c58688-8fab-4af6-d298-02b7ffefdba6"
      },
      "execution_count": 59,
      "outputs": [
        {
          "output_type": "stream",
          "name": "stdout",
          "text": [
            "Accuracy Linear Kernel: 0.5333333333333333\n",
            "Accuracy Polynomial Kernel: 0.7333333333333333\n",
            "Accuracy Radial Basis Kernel: 0.7333333333333333\n",
            "Accuracy Sigmoid Kernel: 0.7333333333333333\n",
            "cm_lin \n",
            " [[8 3]\n",
            " [4 0]] \n",
            "\n",
            "cm_poly \n",
            " [[11  0]\n",
            " [ 4  0]] \n",
            "\n",
            "cm_rbf \n",
            " [[11  0]\n",
            " [ 4  0]] \n",
            "\n",
            "cm_sig \n",
            " [[11  0]\n",
            " [ 4  0]] \n",
            "\n"
          ]
        }
      ]
    },
    {
      "cell_type": "markdown",
      "source": [
        "Report:\n",
        "\n",
        "Overview:\n",
        "\n",
        "Birds Sounded data set is used for Identifying  the birds in our  sourounding so to across the sound a SVM based Technique was Applied. In this Project we have imported varios lib. which help us to extracting the voice of the birds and try to predict about the bird. In this method we trained the data set by splitting in the ratio of training (80%) and testing (20%). The model was trained with different kernal which showing a accuracy as such as linear : polynomial: Radial: sigmoid :: 53: 73:73:73. \n",
        "\n",
        "The average accuracy of the prediction model is approx 80 percent.which \n",
        "is also predicting false result. "
      ],
      "metadata": {
        "id": "yggqIPJhxrXO"
      }
    }
  ]
}